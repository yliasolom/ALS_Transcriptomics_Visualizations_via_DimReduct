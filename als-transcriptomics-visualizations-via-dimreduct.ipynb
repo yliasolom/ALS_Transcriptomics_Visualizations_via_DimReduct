{
 "cells": [
  {
   "cell_type": "code",
   "execution_count": 1,
   "id": "excited-rainbow",
   "metadata": {
    "_cell_guid": "b1076dfc-b9ad-4769-8c92-a6c4dae69d19",
    "_uuid": "8f2839f25d086af736a60e9eeb907d3b93b6e0e5",
    "execution": {
     "iopub.execute_input": "2021-11-26T18:15:36.009528Z",
     "iopub.status.busy": "2021-11-26T18:15:36.007539Z",
     "iopub.status.idle": "2021-11-26T18:15:36.605845Z",
     "shell.execute_reply": "2021-11-26T18:15:36.606577Z",
     "shell.execute_reply.started": "2021-11-26T17:58:47.712083Z"
    },
    "papermill": {
     "duration": 0.612216,
     "end_time": "2021-11-26T18:15:36.606896",
     "exception": false,
     "start_time": "2021-11-26T18:15:35.994680",
     "status": "completed"
    },
    "tags": []
   },
   "outputs": [
    {
     "name": "stdout",
     "output_type": "stream",
     "text": [
      "/kaggle/input/end-als/end-als/genomics-data/geno_bin.csv\n",
      "/kaggle/input/end-als/end-als/genomics-data/AnswerALS_subset_annovar.hg38_anno_and_geno.no_intergenic.vcf\n",
      "/kaggle/input/end-als/end-als/other-data/Living with ALS - sample personas.pdf\n",
      "/kaggle/input/end-als/end-als/other-data/meet_the_experts.mp4\n",
      "Printed 5 filenames out of  228\n"
     ]
    }
   ],
   "source": [
    "import numpy as np\n",
    "import pandas as pd \n",
    "import os\n",
    "i = 0\n",
    "for dirname, _, filenames in os.walk('/kaggle/input'):\n",
    "    for filename in filenames:\n",
    "        i += 1\n",
    "        if i < 5:\n",
    "            print(os.path.join(dirname, filename))\n",
    "print('Printed 5 filenames out of ', i)"
   ]
  },
  {
   "cell_type": "code",
   "execution_count": 2,
   "id": "selective-dating",
   "metadata": {
    "execution": {
     "iopub.execute_input": "2021-11-26T18:15:36.636855Z",
     "iopub.status.busy": "2021-11-26T18:15:36.635754Z",
     "iopub.status.idle": "2021-11-26T18:16:09.307098Z",
     "shell.execute_reply": "2021-11-26T18:16:09.306535Z",
     "shell.execute_reply.started": "2021-11-26T17:58:53.343035Z"
    },
    "papermill": {
     "duration": 32.689883,
     "end_time": "2021-11-26T18:16:09.307246",
     "exception": false,
     "start_time": "2021-11-26T18:15:36.617363",
     "status": "completed"
    },
    "tags": []
   },
   "outputs": [
    {
     "name": "stdout",
     "output_type": "stream",
     "text": [
      "Loaded: /kaggle/input/end-als/end-als/transcriptomics-data/DESeq2/bulbar_vs_limb.csv shape: (112, 53861)\n",
      "Loaded: /kaggle/input/end-als/end-als/transcriptomics-data/DESeq2/ctrl_vs_case.csv shape: (163, 53861)\n",
      "32.59155011177063 seconds passed\n"
     ]
    },
    {
     "data": {
      "text/html": [
       "<div>\n",
       "<style scoped>\n",
       "    .dataframe tbody tr th:only-of-type {\n",
       "        vertical-align: middle;\n",
       "    }\n",
       "\n",
       "    .dataframe tbody tr th {\n",
       "        vertical-align: top;\n",
       "    }\n",
       "\n",
       "    .dataframe thead th {\n",
       "        text-align: right;\n",
       "    }\n",
       "</style>\n",
       "<table border=\"1\" class=\"dataframe\">\n",
       "  <thead>\n",
       "    <tr style=\"text-align: right;\">\n",
       "      <th></th>\n",
       "      <th>Participant_ID</th>\n",
       "      <th>CtrlVsCase_Classifier</th>\n",
       "      <th>DDX11L1</th>\n",
       "      <th>WASH7P</th>\n",
       "      <th>MIR6859.1</th>\n",
       "      <th>MIR1302.2HG</th>\n",
       "      <th>FAM138A</th>\n",
       "      <th>OR4G11P</th>\n",
       "      <th>OR4F5</th>\n",
       "      <th>AL627309.1</th>\n",
       "      <th>...</th>\n",
       "      <th>AC023491.1</th>\n",
       "      <th>AC004556.3</th>\n",
       "      <th>ENSG00000278246</th>\n",
       "      <th>AC240274.1</th>\n",
       "      <th>ENSG00000278033</th>\n",
       "      <th>U1.4</th>\n",
       "      <th>U1.5</th>\n",
       "      <th>AC213203.2</th>\n",
       "      <th>AC213203.1</th>\n",
       "      <th>ENSG00000278858</th>\n",
       "    </tr>\n",
       "  </thead>\n",
       "  <tbody>\n",
       "    <tr>\n",
       "      <th>0</th>\n",
       "      <td>NEUAB000NKC</td>\n",
       "      <td>1</td>\n",
       "      <td>0.0</td>\n",
       "      <td>188.401759</td>\n",
       "      <td>32.563267</td>\n",
       "      <td>1.162974</td>\n",
       "      <td>0.0</td>\n",
       "      <td>0.0</td>\n",
       "      <td>0.0</td>\n",
       "      <td>5.814869</td>\n",
       "      <td>...</td>\n",
       "      <td>0.0</td>\n",
       "      <td>2.325948</td>\n",
       "      <td>0.0</td>\n",
       "      <td>384.944335</td>\n",
       "      <td>0.0</td>\n",
       "      <td>94.20088</td>\n",
       "      <td>2.325948</td>\n",
       "      <td>5.814869</td>\n",
       "      <td>0.0</td>\n",
       "      <td>0.0</td>\n",
       "    </tr>\n",
       "  </tbody>\n",
       "</table>\n",
       "<p>1 rows × 53861 columns</p>\n",
       "</div>"
      ],
      "text/plain": [
       "  Participant_ID  CtrlVsCase_Classifier  DDX11L1      WASH7P  MIR6859.1  \\\n",
       "0    NEUAB000NKC                      1      0.0  188.401759  32.563267   \n",
       "\n",
       "   MIR1302.2HG  FAM138A  OR4G11P  OR4F5  AL627309.1  ...  AC023491.1  \\\n",
       "0     1.162974      0.0      0.0    0.0    5.814869  ...         0.0   \n",
       "\n",
       "   AC004556.3  ENSG00000278246  AC240274.1  ENSG00000278033      U1.4  \\\n",
       "0    2.325948              0.0  384.944335              0.0  94.20088   \n",
       "\n",
       "       U1.5  AC213203.2  AC213203.1  ENSG00000278858  \n",
       "0  2.325948    5.814869         0.0              0.0  \n",
       "\n",
       "[1 rows x 53861 columns]"
      ]
     },
     "metadata": {},
     "output_type": "display_data"
    },
    {
     "data": {
      "text/html": [
       "<div>\n",
       "<style scoped>\n",
       "    .dataframe tbody tr th:only-of-type {\n",
       "        vertical-align: middle;\n",
       "    }\n",
       "\n",
       "    .dataframe tbody tr th {\n",
       "        vertical-align: top;\n",
       "    }\n",
       "\n",
       "    .dataframe thead th {\n",
       "        text-align: right;\n",
       "    }\n",
       "</style>\n",
       "<table border=\"1\" class=\"dataframe\">\n",
       "  <thead>\n",
       "    <tr style=\"text-align: right;\">\n",
       "      <th></th>\n",
       "      <th>ctrl vs case</th>\n",
       "      <th>bulbar vs limb</th>\n",
       "    </tr>\n",
       "    <tr>\n",
       "      <th>Participant_ID</th>\n",
       "      <th></th>\n",
       "      <th></th>\n",
       "    </tr>\n",
       "  </thead>\n",
       "  <tbody>\n",
       "    <tr>\n",
       "      <th>NEUAB000NKC</th>\n",
       "      <td>1</td>\n",
       "      <td>1.0</td>\n",
       "    </tr>\n",
       "    <tr>\n",
       "      <th>NEUAE993EPR</th>\n",
       "      <td>1</td>\n",
       "      <td>NaN</td>\n",
       "    </tr>\n",
       "    <tr>\n",
       "      <th>NEUAF553MJ3</th>\n",
       "      <td>1</td>\n",
       "      <td>0.0</td>\n",
       "    </tr>\n",
       "    <tr>\n",
       "      <th>NEUAG603XLK</th>\n",
       "      <td>1</td>\n",
       "      <td>1.0</td>\n",
       "    </tr>\n",
       "    <tr>\n",
       "      <th>NEUAM655HF7</th>\n",
       "      <td>1</td>\n",
       "      <td>1.0</td>\n",
       "    </tr>\n",
       "    <tr>\n",
       "      <th>...</th>\n",
       "      <td>...</td>\n",
       "      <td>...</td>\n",
       "    </tr>\n",
       "    <tr>\n",
       "      <th>NEUUV825HYF</th>\n",
       "      <td>0</td>\n",
       "      <td>NaN</td>\n",
       "    </tr>\n",
       "    <tr>\n",
       "      <th>NEUVZ050YX7</th>\n",
       "      <td>0</td>\n",
       "      <td>NaN</td>\n",
       "    </tr>\n",
       "    <tr>\n",
       "      <th>NEUWT164JRQ</th>\n",
       "      <td>0</td>\n",
       "      <td>NaN</td>\n",
       "    </tr>\n",
       "    <tr>\n",
       "      <th>NEUYM205MRL</th>\n",
       "      <td>0</td>\n",
       "      <td>NaN</td>\n",
       "    </tr>\n",
       "    <tr>\n",
       "      <th>NEUZL045YD3</th>\n",
       "      <td>0</td>\n",
       "      <td>NaN</td>\n",
       "    </tr>\n",
       "  </tbody>\n",
       "</table>\n",
       "<p>163 rows × 2 columns</p>\n",
       "</div>"
      ],
      "text/plain": [
       "                ctrl vs case  bulbar vs limb\n",
       "Participant_ID                              \n",
       "NEUAB000NKC                1             1.0\n",
       "NEUAE993EPR                1             NaN\n",
       "NEUAF553MJ3                1             0.0\n",
       "NEUAG603XLK                1             1.0\n",
       "NEUAM655HF7                1             1.0\n",
       "...                      ...             ...\n",
       "NEUUV825HYF                0             NaN\n",
       "NEUVZ050YX7                0             NaN\n",
       "NEUWT164JRQ                0             NaN\n",
       "NEUYM205MRL                0             NaN\n",
       "NEUZL045YD3                0             NaN\n",
       "\n",
       "[163 rows x 2 columns]"
      ]
     },
     "execution_count": 2,
     "metadata": {},
     "output_type": "execute_result"
    }
   ],
   "source": [
    "list_fn = ['/kaggle/input/end-als/end-als/transcriptomics-data/DESeq2/bulbar_vs_limb.csv',\n",
    "'/kaggle/input/end-als/end-als/transcriptomics-data/DESeq2/ctrl_vs_case.csv']\n",
    "import time\n",
    "t0 = time.time()\n",
    "list_data_df = []\n",
    "for fn in list_fn:\n",
    "    d = pd.read_csv(fn)\n",
    "    list_data_df.append(d)\n",
    "    print('Loaded:', fn, 'shape:', d.shape)\n",
    "list_data_names = [ 'bulbar_vs_limb'.replace('_',' '),  'ctrl_vs_case'.replace('_',' ') ]\n",
    "\n",
    "print(time.time()-t0, 'seconds passed')\n",
    "\n",
    "df = list_data_df[1]\n",
    "display(df.head(1))\n",
    "df_targets = df.iloc[:,:2].copy()\n",
    "df_targets['Order'] = range(df.shape[0])\n",
    "\n",
    "df_targets = df_targets.set_index(df_targets.columns[0])\n",
    "for d in list_data_df[:1]:\n",
    "    d = d.iloc[:,:2]\n",
    "    d = d.set_index(d.columns[0])\n",
    "    df_targets = df_targets.join(d, how = 'outer')\n",
    "df_targets = df_targets.sort_values('Order')\n",
    "df_targets = df_targets.drop(columns = 'Order')\n",
    "df_targets.columns = ['ctrl_vs_case'.replace('_',' '), 'bulbar_vs_limb'.replace('_',' ') ]\n",
    "df_targets   "
   ]
  },
  {
   "cell_type": "code",
   "execution_count": 3,
   "id": "thousand-trademark",
   "metadata": {
    "execution": {
     "iopub.execute_input": "2021-11-26T18:16:09.329742Z",
     "iopub.status.busy": "2021-11-26T18:16:09.328766Z",
     "iopub.status.idle": "2021-11-26T18:16:09.335591Z",
     "shell.execute_reply": "2021-11-26T18:16:09.336082Z",
     "shell.execute_reply.started": "2021-11-25T21:41:10.251786Z"
    },
    "papermill": {
     "duration": 0.019833,
     "end_time": "2021-11-26T18:16:09.336248",
     "exception": false,
     "start_time": "2021-11-26T18:16:09.316415",
     "status": "completed"
    },
    "tags": []
   },
   "outputs": [
    {
     "data": {
      "text/plain": [
       "0"
      ]
     },
     "execution_count": 3,
     "metadata": {},
     "output_type": "execute_result"
    }
   ],
   "source": [
    "# check: \n",
    "(df.iloc[:,1].values != df_targets.iloc[:,0].values ) .sum() # Check "
   ]
  },
  {
   "cell_type": "code",
   "execution_count": 4,
   "id": "continued-patent",
   "metadata": {
    "execution": {
     "iopub.execute_input": "2021-11-26T18:16:09.358897Z",
     "iopub.status.busy": "2021-11-26T18:16:09.357902Z",
     "iopub.status.idle": "2021-11-26T18:16:09.383738Z",
     "shell.execute_reply": "2021-11-26T18:16:09.383163Z",
     "shell.execute_reply.started": "2021-11-26T17:59:26.603493Z"
    },
    "papermill": {
     "duration": 0.038196,
     "end_time": "2021-11-26T18:16:09.383886",
     "exception": false,
     "start_time": "2021-11-26T18:16:09.345690",
     "status": "completed"
    },
    "tags": []
   },
   "outputs": [
    {
     "data": {
      "text/html": [
       "<div>\n",
       "<style scoped>\n",
       "    .dataframe tbody tr th:only-of-type {\n",
       "        vertical-align: middle;\n",
       "    }\n",
       "\n",
       "    .dataframe tbody tr th {\n",
       "        vertical-align: top;\n",
       "    }\n",
       "\n",
       "    .dataframe thead th {\n",
       "        text-align: right;\n",
       "    }\n",
       "</style>\n",
       "<table border=\"1\" class=\"dataframe\">\n",
       "  <thead>\n",
       "    <tr style=\"text-align: right;\">\n",
       "      <th></th>\n",
       "      <th>Participant_ID</th>\n",
       "      <th>CtrlVsCase_Classifier</th>\n",
       "      <th>DDX11L1</th>\n",
       "      <th>WASH7P</th>\n",
       "      <th>MIR6859.1</th>\n",
       "      <th>MIR1302.2HG</th>\n",
       "      <th>FAM138A</th>\n",
       "      <th>OR4G11P</th>\n",
       "      <th>OR4F5</th>\n",
       "      <th>AL627309.1</th>\n",
       "      <th>...</th>\n",
       "      <th>AC023491.1</th>\n",
       "      <th>AC004556.3</th>\n",
       "      <th>ENSG00000278246</th>\n",
       "      <th>AC240274.1</th>\n",
       "      <th>ENSG00000278033</th>\n",
       "      <th>U1.4</th>\n",
       "      <th>U1.5</th>\n",
       "      <th>AC213203.2</th>\n",
       "      <th>AC213203.1</th>\n",
       "      <th>ENSG00000278858</th>\n",
       "    </tr>\n",
       "  </thead>\n",
       "  <tbody>\n",
       "    <tr>\n",
       "      <th>0</th>\n",
       "      <td>NEUAB000NKC</td>\n",
       "      <td>1</td>\n",
       "      <td>0.0</td>\n",
       "      <td>188.401759</td>\n",
       "      <td>32.563267</td>\n",
       "      <td>1.162974</td>\n",
       "      <td>0.0</td>\n",
       "      <td>0.0</td>\n",
       "      <td>0.0</td>\n",
       "      <td>5.814869</td>\n",
       "      <td>...</td>\n",
       "      <td>0.0</td>\n",
       "      <td>2.325948</td>\n",
       "      <td>0.0</td>\n",
       "      <td>384.944335</td>\n",
       "      <td>0.0</td>\n",
       "      <td>94.20088</td>\n",
       "      <td>2.325948</td>\n",
       "      <td>5.814869</td>\n",
       "      <td>0.0</td>\n",
       "      <td>0.0</td>\n",
       "    </tr>\n",
       "  </tbody>\n",
       "</table>\n",
       "<p>1 rows × 53861 columns</p>\n",
       "</div>"
      ],
      "text/plain": [
       "  Participant_ID  CtrlVsCase_Classifier  DDX11L1      WASH7P  MIR6859.1  \\\n",
       "0    NEUAB000NKC                      1      0.0  188.401759  32.563267   \n",
       "\n",
       "   MIR1302.2HG  FAM138A  OR4G11P  OR4F5  AL627309.1  ...  AC023491.1  \\\n",
       "0     1.162974      0.0      0.0    0.0    5.814869  ...         0.0   \n",
       "\n",
       "   AC004556.3  ENSG00000278246  AC240274.1  ENSG00000278033      U1.4  \\\n",
       "0    2.325948              0.0  384.944335              0.0  94.20088   \n",
       "\n",
       "       U1.5  AC213203.2  AC213203.1  ENSG00000278858  \n",
       "0  2.325948    5.814869         0.0              0.0  \n",
       "\n",
       "[1 rows x 53861 columns]"
      ]
     },
     "execution_count": 4,
     "metadata": {},
     "output_type": "execute_result"
    }
   ],
   "source": [
    "df.head(1)"
   ]
  },
  {
   "cell_type": "code",
   "execution_count": 5,
   "id": "personal-sponsorship",
   "metadata": {
    "execution": {
     "iopub.execute_input": "2021-11-26T18:16:09.411369Z",
     "iopub.status.busy": "2021-11-26T18:16:09.407872Z",
     "iopub.status.idle": "2021-11-26T18:16:09.425844Z",
     "shell.execute_reply": "2021-11-26T18:16:09.425328Z",
     "shell.execute_reply.started": "2021-11-26T17:59:31.387030Z"
    },
    "papermill": {
     "duration": 0.032028,
     "end_time": "2021-11-26T18:16:09.425999",
     "exception": false,
     "start_time": "2021-11-26T18:16:09.393971",
     "status": "completed"
    },
    "tags": []
   },
   "outputs": [
    {
     "data": {
      "text/html": [
       "<div>\n",
       "<style scoped>\n",
       "    .dataframe tbody tr th:only-of-type {\n",
       "        vertical-align: middle;\n",
       "    }\n",
       "\n",
       "    .dataframe tbody tr th {\n",
       "        vertical-align: top;\n",
       "    }\n",
       "\n",
       "    .dataframe thead th {\n",
       "        text-align: right;\n",
       "    }\n",
       "</style>\n",
       "<table border=\"1\" class=\"dataframe\">\n",
       "  <thead>\n",
       "    <tr style=\"text-align: right;\">\n",
       "      <th></th>\n",
       "      <th>ctrl vs case</th>\n",
       "      <th>bulbar vs limb</th>\n",
       "    </tr>\n",
       "  </thead>\n",
       "  <tbody>\n",
       "    <tr>\n",
       "      <th>count</th>\n",
       "      <td>163.000000</td>\n",
       "      <td>112.000000</td>\n",
       "    </tr>\n",
       "    <tr>\n",
       "      <th>mean</th>\n",
       "      <td>0.815951</td>\n",
       "      <td>0.732143</td>\n",
       "    </tr>\n",
       "    <tr>\n",
       "      <th>std</th>\n",
       "      <td>0.388718</td>\n",
       "      <td>0.444833</td>\n",
       "    </tr>\n",
       "    <tr>\n",
       "      <th>min</th>\n",
       "      <td>0.000000</td>\n",
       "      <td>0.000000</td>\n",
       "    </tr>\n",
       "    <tr>\n",
       "      <th>25%</th>\n",
       "      <td>1.000000</td>\n",
       "      <td>0.000000</td>\n",
       "    </tr>\n",
       "    <tr>\n",
       "      <th>50%</th>\n",
       "      <td>1.000000</td>\n",
       "      <td>1.000000</td>\n",
       "    </tr>\n",
       "    <tr>\n",
       "      <th>75%</th>\n",
       "      <td>1.000000</td>\n",
       "      <td>1.000000</td>\n",
       "    </tr>\n",
       "    <tr>\n",
       "      <th>max</th>\n",
       "      <td>1.000000</td>\n",
       "      <td>1.000000</td>\n",
       "    </tr>\n",
       "  </tbody>\n",
       "</table>\n",
       "</div>"
      ],
      "text/plain": [
       "       ctrl vs case  bulbar vs limb\n",
       "count    163.000000      112.000000\n",
       "mean       0.815951        0.732143\n",
       "std        0.388718        0.444833\n",
       "min        0.000000        0.000000\n",
       "25%        1.000000        0.000000\n",
       "50%        1.000000        1.000000\n",
       "75%        1.000000        1.000000\n",
       "max        1.000000        1.000000"
      ]
     },
     "execution_count": 5,
     "metadata": {},
     "output_type": "execute_result"
    }
   ],
   "source": [
    "df_targets.describe()"
   ]
  },
  {
   "cell_type": "markdown",
   "id": "worst-colors",
   "metadata": {
    "papermill": {
     "duration": 0.009865,
     "end_time": "2021-11-26T18:16:09.446380",
     "exception": false,
     "start_time": "2021-11-26T18:16:09.436515",
     "status": "completed"
    },
    "tags": []
   },
   "source": [
    "# Dimensional reduction by PCA for *Ctrl vs Case* and *Bulbar vs Limb*"
   ]
  },
  {
   "cell_type": "code",
   "execution_count": 6,
   "id": "liked-typing",
   "metadata": {
    "execution": {
     "iopub.execute_input": "2021-11-26T18:16:09.470378Z",
     "iopub.status.busy": "2021-11-26T18:16:09.469698Z",
     "iopub.status.idle": "2021-11-26T18:16:34.669643Z",
     "shell.execute_reply": "2021-11-26T18:16:34.669088Z",
     "shell.execute_reply.started": "2021-11-26T17:59:36.462096Z"
    },
    "papermill": {
     "duration": 25.212889,
     "end_time": "2021-11-26T18:16:34.669780",
     "exception": false,
     "start_time": "2021-11-26T18:16:09.456891",
     "status": "completed"
    },
    "tags": []
   },
   "outputs": [
    {
     "name": "stdout",
     "output_type": "stream",
     "text": [
      "Top 10 explained_variance_ratio_ [0.51379462 0.1773511  0.10042276 0.08417828 0.03358343 0.01798279\n",
      " 0.01203276 0.0064671  0.00615886 0.00507206]\n",
      "Top 10 singular_values_ [2692382.56243095 1581826.80725136 1190304.46866108 1089788.00299715\n",
      "  688342.38518677  503698.35046227  412025.99755371  302062.48818924\n",
      "  294776.02070709  267506.51736825]\n",
      "2.8137807846069336 seconds passed\n"
     ]
    },
    {
     "data": {
      "image/png": "[encoded data removed]",
      "text/plain": [
       "<Figure size 1728x432 with 2 Axes>"
      ]
     },
     "metadata": {
      "needs_background": "light"
     },
     "output_type": "display_data"
    },
    {
     "name": "stdout",
     "output_type": "stream",
     "text": [
      "3.4950575828552246 seconds passed. Finished.\n"
     ]
    }
   ],
   "source": [
    "import time\n",
    "\n",
    "import matplotlib.pyplot as plt\n",
    "import seaborn as sns\n",
    "\n",
    "import umap\n",
    "from sklearn.decomposition import PCA\n",
    "from matplotlib.lines import Line2D\n",
    "\n",
    "t0 = time.time()\n",
    "\n",
    "X = df.iloc[:,2:].values\n",
    "pca = PCA()# n_components=2)\n",
    "r = pca.fit_transform(X)\n",
    "print('Top 10 explained_variance_ratio_', pca.explained_variance_ratio_[:10])\n",
    "print('Top 10 singular_values_', pca.singular_values_[:10])\n",
    "\n",
    "print(time.time() - t0,'seconds passed')\n",
    "\n",
    "fig = plt.figure(figsize = (24,6) ); c = 0\n",
    "sns.set(font_scale=1.25,style=\"white\")\n",
    "for i,col in enumerate(df_targets.columns):\n",
    "        data_name = col # list_names[i]\n",
    "        y = df_targets[col].copy()# d.iloc[:,1].values\n",
    "        y = y.fillna('NAN')\n",
    "        y = y.values\n",
    "\n",
    "        c += 1; fig.add_subplot(1,3,c)\n",
    "        sns.scatterplot(x = r[:,0], y = r[:,1]/100000 , hue = y,style=y)\n",
    "        #sns.lmplot(data=r, hue = y)\n",
    "        #sns.lmplot(x = r[:,0], y = r[:,1]/100000 , hue = y)\n",
    "        plt.title(\"Graph for PCA Analysis of \"+data_name.title())\n",
    "        plt.grid()\n",
    "        plt.xlabel('PCA1')\n",
    "        plt.ylabel('PCA2 (10^5)')\n",
    "        if i<1:\n",
    "            \n",
    "            custom = [Line2D([], [], marker='.', color='b', linestyle='None'),\n",
    "                          Line2D([], [], marker='x', color='#DD8452', linestyle='None')]\n",
    "            plt.legend(custom, ['Ctrl', 'Case'])\n",
    "        else:\n",
    "            custom = [Line2D([], [], marker='.', color='b', linestyle='None'),\n",
    "                      Line2D([], [], marker='x', color='#DD8452', linestyle='None'), \n",
    "                        Line2D([], [], marker='s', color='g', linestyle='None')]\n",
    "            plt.legend(custom, ['Bulbar', 'Not Known','Limb'])\n",
    "    \n",
    "    #print(time.time() - t0,'seconds passed')\n",
    "plt.show()\n",
    "print(time.time() - t0,'seconds passed. Finished.')\n",
    "\n"
   ]
  }
 ],
 "metadata": {
  "kernelspec": {
   "display_name": "Python 3",
   "language": "python",
   "name": "python3"
  },
  "language_info": {
   "codemirror_mode": {
    "name": "ipython",
    "version": 3
   },
   "file_extension": ".py",
   "mimetype": "text/x-python",
   "name": "python",
   "nbconvert_exporter": "python",
   "pygments_lexer": "ipython3",
   "version": "3.7.9"
  },
  "papermill": {
   "default_parameters": {},
   "duration": 66.449662,
   "end_time": "2021-11-26T18:16:36.097421",
   "environment_variables": {},
   "exception": null,
   "input_path": "__notebook__.ipynb",
   "output_path": "__notebook__.ipynb",
   "parameters": {},
   "start_time": "2021-11-26T18:15:29.647759",
   "version": "2.3.2"
  }
 },
 "nbformat": 4,
 "nbformat_minor": 5
}
